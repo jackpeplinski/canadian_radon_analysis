{
 "cells": [
  {
   "cell_type": "code",
   "execution_count": 82,
   "id": "e3a71b5a",
   "metadata": {},
   "outputs": [],
   "source": [
    "import numpy as np\n",
    "import pandas as pd\n",
    "\n",
    "results = pd.read_csv('data/radon-thoron.csv', encoding='latin-1')\n",
    "\n"
   ]
  },
  {
   "cell_type": "code",
   "execution_count": 83,
   "id": "461219ef",
   "metadata": {},
   "outputs": [
    {
     "data": {
      "text/html": [
       "<div>\n",
       "<style scoped>\n",
       "    .dataframe tbody tr th:only-of-type {\n",
       "        vertical-align: middle;\n",
       "    }\n",
       "\n",
       "    .dataframe tbody tr th {\n",
       "        vertical-align: top;\n",
       "    }\n",
       "\n",
       "    .dataframe thead th {\n",
       "        text-align: right;\n",
       "    }\n",
       "</style>\n",
       "<table border=\"1\" class=\"dataframe\">\n",
       "  <thead>\n",
       "    <tr style=\"text-align: right;\">\n",
       "      <th></th>\n",
       "      <th>resultNumber</th>\n",
       "      <th>testDurationInDays</th>\n",
       "      <th>averageRadonConcentrationInBqPerM3</th>\n",
       "      <th>averageThoronConcentrationInBqPerM3</th>\n",
       "    </tr>\n",
       "  </thead>\n",
       "  <tbody>\n",
       "    <tr>\n",
       "      <th>count</th>\n",
       "      <td>3190.000000</td>\n",
       "      <td>3190.000000</td>\n",
       "      <td>3190.000000</td>\n",
       "      <td>3160.000000</td>\n",
       "    </tr>\n",
       "    <tr>\n",
       "      <th>mean</th>\n",
       "      <td>1595.500000</td>\n",
       "      <td>96.203762</td>\n",
       "      <td>117.290909</td>\n",
       "      <td>16.768987</td>\n",
       "    </tr>\n",
       "    <tr>\n",
       "      <th>std</th>\n",
       "      <td>921.018006</td>\n",
       "      <td>12.883509</td>\n",
       "      <td>144.367973</td>\n",
       "      <td>12.566019</td>\n",
       "    </tr>\n",
       "    <tr>\n",
       "      <th>min</th>\n",
       "      <td>1.000000</td>\n",
       "      <td>30.000000</td>\n",
       "      <td>14.000000</td>\n",
       "      <td>14.000000</td>\n",
       "    </tr>\n",
       "    <tr>\n",
       "      <th>25%</th>\n",
       "      <td>798.250000</td>\n",
       "      <td>91.000000</td>\n",
       "      <td>41.000000</td>\n",
       "      <td>14.000000</td>\n",
       "    </tr>\n",
       "    <tr>\n",
       "      <th>50%</th>\n",
       "      <td>1595.500000</td>\n",
       "      <td>92.000000</td>\n",
       "      <td>75.000000</td>\n",
       "      <td>14.000000</td>\n",
       "    </tr>\n",
       "    <tr>\n",
       "      <th>75%</th>\n",
       "      <td>2392.750000</td>\n",
       "      <td>97.000000</td>\n",
       "      <td>139.000000</td>\n",
       "      <td>14.000000</td>\n",
       "    </tr>\n",
       "    <tr>\n",
       "      <th>max</th>\n",
       "      <td>3190.000000</td>\n",
       "      <td>301.000000</td>\n",
       "      <td>2117.000000</td>\n",
       "      <td>232.000000</td>\n",
       "    </tr>\n",
       "  </tbody>\n",
       "</table>\n",
       "</div>"
      ],
      "text/plain": [
       "       resultNumber  testDurationInDays  averageRadonConcentrationInBqPerM3  \\\n",
       "count   3190.000000         3190.000000                         3190.000000   \n",
       "mean    1595.500000           96.203762                          117.290909   \n",
       "std      921.018006           12.883509                          144.367973   \n",
       "min        1.000000           30.000000                           14.000000   \n",
       "25%      798.250000           91.000000                           41.000000   \n",
       "50%     1595.500000           92.000000                           75.000000   \n",
       "75%     2392.750000           97.000000                          139.000000   \n",
       "max     3190.000000          301.000000                         2117.000000   \n",
       "\n",
       "       averageThoronConcentrationInBqPerM3  \n",
       "count                          3160.000000  \n",
       "mean                             16.768987  \n",
       "std                              12.566019  \n",
       "min                              14.000000  \n",
       "25%                              14.000000  \n",
       "50%                              14.000000  \n",
       "75%                              14.000000  \n",
       "max                             232.000000  "
      ]
     },
     "execution_count": 83,
     "metadata": {},
     "output_type": "execute_result"
    }
   ],
   "source": [
    "results.describe()\n"
   ]
  },
  {
   "cell_type": "code",
   "execution_count": 84,
   "id": "9d1e75d9",
   "metadata": {},
   "outputs": [
    {
     "data": {
      "text/html": [
       "<div>\n",
       "<style scoped>\n",
       "    .dataframe tbody tr th:only-of-type {\n",
       "        vertical-align: middle;\n",
       "    }\n",
       "\n",
       "    .dataframe tbody tr th {\n",
       "        vertical-align: top;\n",
       "    }\n",
       "\n",
       "    .dataframe thead th {\n",
       "        text-align: right;\n",
       "    }\n",
       "</style>\n",
       "<table border=\"1\" class=\"dataframe\">\n",
       "  <thead>\n",
       "    <tr style=\"text-align: right;\">\n",
       "      <th></th>\n",
       "      <th>censusMetropolitanArea</th>\n",
       "      <th>forwardSortationAreaCodes</th>\n",
       "      <th>averageRadonConcentrationInBqPerM3</th>\n",
       "    </tr>\n",
       "  </thead>\n",
       "  <tbody>\n",
       "    <tr>\n",
       "      <th>0</th>\n",
       "      <td>Calgary CMA</td>\n",
       "      <td>*</td>\n",
       "      <td>89</td>\n",
       "    </tr>\n",
       "    <tr>\n",
       "      <th>1</th>\n",
       "      <td>Calgary CMA</td>\n",
       "      <td>*</td>\n",
       "      <td>18</td>\n",
       "    </tr>\n",
       "    <tr>\n",
       "      <th>2</th>\n",
       "      <td>Calgary CMA</td>\n",
       "      <td>*</td>\n",
       "      <td>114</td>\n",
       "    </tr>\n",
       "    <tr>\n",
       "      <th>3</th>\n",
       "      <td>Calgary CMA</td>\n",
       "      <td>*</td>\n",
       "      <td>185</td>\n",
       "    </tr>\n",
       "    <tr>\n",
       "      <th>4</th>\n",
       "      <td>Calgary CMA</td>\n",
       "      <td>*</td>\n",
       "      <td>71</td>\n",
       "    </tr>\n",
       "  </tbody>\n",
       "</table>\n",
       "</div>"
      ],
      "text/plain": [
       "  censusMetropolitanArea forwardSortationAreaCodes  \\\n",
       "0            Calgary CMA                         *   \n",
       "1            Calgary CMA                         *   \n",
       "2            Calgary CMA                         *   \n",
       "3            Calgary CMA                         *   \n",
       "4            Calgary CMA                         *   \n",
       "\n",
       "   averageRadonConcentrationInBqPerM3  \n",
       "0                                  89  \n",
       "1                                  18  \n",
       "2                                 114  \n",
       "3                                 185  \n",
       "4                                  71  "
      ]
     },
     "execution_count": 84,
     "metadata": {},
     "output_type": "execute_result"
    }
   ],
   "source": [
    "cols = ['censusMetropolitanArea','forwardSortationAreaCodes','averageRadonConcentrationInBqPerM3']\n",
    "df = pd.read_csv('data/radon-thoron.csv', usecols=cols, encoding='latin-1')\n",
    "df.head()"
   ]
  },
  {
   "cell_type": "code",
   "execution_count": 85,
   "id": "ddd9f5d1",
   "metadata": {},
   "outputs": [
    {
     "data": {
      "text/html": [
       "<div>\n",
       "<style scoped>\n",
       "    .dataframe tbody tr th:only-of-type {\n",
       "        vertical-align: middle;\n",
       "    }\n",
       "\n",
       "    .dataframe tbody tr th {\n",
       "        vertical-align: top;\n",
       "    }\n",
       "\n",
       "    .dataframe thead th {\n",
       "        text-align: right;\n",
       "    }\n",
       "</style>\n",
       "<table border=\"1\" class=\"dataframe\">\n",
       "  <thead>\n",
       "    <tr style=\"text-align: right;\">\n",
       "      <th></th>\n",
       "      <th>averageRadonConcentrationInBqPerM3</th>\n",
       "    </tr>\n",
       "  </thead>\n",
       "  <tbody>\n",
       "    <tr>\n",
       "      <th>count</th>\n",
       "      <td>3190.000000</td>\n",
       "    </tr>\n",
       "    <tr>\n",
       "      <th>mean</th>\n",
       "      <td>117.290909</td>\n",
       "    </tr>\n",
       "    <tr>\n",
       "      <th>std</th>\n",
       "      <td>144.367973</td>\n",
       "    </tr>\n",
       "    <tr>\n",
       "      <th>min</th>\n",
       "      <td>14.000000</td>\n",
       "    </tr>\n",
       "    <tr>\n",
       "      <th>25%</th>\n",
       "      <td>41.000000</td>\n",
       "    </tr>\n",
       "    <tr>\n",
       "      <th>50%</th>\n",
       "      <td>75.000000</td>\n",
       "    </tr>\n",
       "    <tr>\n",
       "      <th>75%</th>\n",
       "      <td>139.000000</td>\n",
       "    </tr>\n",
       "    <tr>\n",
       "      <th>max</th>\n",
       "      <td>2117.000000</td>\n",
       "    </tr>\n",
       "  </tbody>\n",
       "</table>\n",
       "</div>"
      ],
      "text/plain": [
       "       averageRadonConcentrationInBqPerM3\n",
       "count                         3190.000000\n",
       "mean                           117.290909\n",
       "std                            144.367973\n",
       "min                             14.000000\n",
       "25%                             41.000000\n",
       "50%                             75.000000\n",
       "75%                            139.000000\n",
       "max                           2117.000000"
      ]
     },
     "execution_count": 85,
     "metadata": {},
     "output_type": "execute_result"
    }
   ],
   "source": [
    "df.describe()"
   ]
  },
  {
   "cell_type": "code",
   "execution_count": 86,
   "id": "9c787473",
   "metadata": {},
   "outputs": [
    {
     "data": {
      "text/plain": [
       "censusMetropolitanArea  forwardSortationAreaCodes  averageRadonConcentrationInBqPerM3\n",
       "Vancouver CMA           *                          14                                    16\n",
       "Toronto CMA             *                          14                                     5\n",
       "Montreal CMA            *                          14                                     5\n",
       "Toronto CMA             *                          23                                     4\n",
       "Montreal CMA            *                          22                                     4\n",
       "                                                                                         ..\n",
       "Kitchener CMA           N2G                        21                                     1\n",
       "                                                   29                                     1\n",
       "                                                   30                                     1\n",
       "                                                   38                                     1\n",
       "Winnipeg CMA            R3Y                        195                                    1\n",
       "Length: 2994, dtype: int64"
      ]
     },
     "execution_count": 86,
     "metadata": {},
     "output_type": "execute_result"
    }
   ],
   "source": [
    "df.value_counts()"
   ]
  },
  {
   "cell_type": "code",
   "execution_count": 87,
   "id": "95aaa519",
   "metadata": {},
   "outputs": [
    {
     "name": "stdout",
     "output_type": "stream",
     "text": [
      "Number of rows with radon concentration values above 300:  205\n",
      "This is equivalent to:  6.426332288401254 percent of entries\n",
      "\n",
      "Number of rows with radon concentration values below 100:  2014\n",
      "This is equivalent to:  63.13479623824452 percent of entries\n"
     ]
    }
   ],
   "source": [
    "print(\"Number of rows with radon concentration values above 300: \", len(df[df['averageRadonConcentrationInBqPerM3'] > 300])) # Output is number of radon concentration values that are above the 300 range\n",
    "print(\"This is equivalent to: \", len(df[df['averageRadonConcentrationInBqPerM3'] > 300])/len(df.index) * 100, \"percent of entries\")\n",
    "\n",
    "print()\n",
    "print(\"Number of rows with radon concentration values below 100: \", len(df[df['averageRadonConcentrationInBqPerM3'] < 100])) # Output is number of radon concentration values that are below 100\n",
    "print(\"This is equivalent to: \", len(df[df['averageRadonConcentrationInBqPerM3'] < 100])/len(df.index) * 100, \"percent of entries\")"
   ]
  }
 ],
 "metadata": {
  "kernelspec": {
   "display_name": "Python 3 (ipykernel)",
   "language": "python",
   "name": "python3"
  },
  "language_info": {
   "codemirror_mode": {
    "name": "ipython",
    "version": 3
   },
   "file_extension": ".py",
   "mimetype": "text/x-python",
   "name": "python",
   "nbconvert_exporter": "python",
   "pygments_lexer": "ipython3",
   "version": "3.10.9"
  }
 },
 "nbformat": 4,
 "nbformat_minor": 5
}
