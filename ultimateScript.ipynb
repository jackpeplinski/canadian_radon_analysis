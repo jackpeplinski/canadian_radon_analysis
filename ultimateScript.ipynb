{
  "nbformat": 4,
  "nbformat_minor": 0,
  "metadata": {
    "colab": {
      "provenance": [],
      "authorship_tag": "ABX9TyNoZTWMmsIm4/gi+a+EXaoF",
      "include_colab_link": true
    },
    "kernelspec": {
      "name": "python3",
      "display_name": "Python 3"
    },
    "language_info": {
      "name": "python"
    }
  },
  "cells": [
    {
      "cell_type": "markdown",
      "metadata": {
        "id": "view-in-github",
        "colab_type": "text"
      },
      "source": [
        "<a href=\"https://colab.research.google.com/github/kMongru/canadian_radon_analysis/blob/main/ultimateScript.ipynb\" target=\"_parent\"><img src=\"https://colab.research.google.com/assets/colab-badge.svg\" alt=\"Open In Colab\"/></a>"
      ]
    },
    {
      "cell_type": "code",
      "execution_count": null,
      "metadata": {
        "colab": {
          "base_uri": "https://localhost:8080/"
        },
        "id": "untI63wNNf3E",
        "outputId": "c53a94c4-7c31-4190-d477-14ba362df140"
      },
      "outputs": [
        {
          "output_type": "stream",
          "name": "stdout",
          "text": [
            "RMSE of the base model: 63.727\n",
            "15\n",
            "5657\n",
            "97.83791805414796\n"
          ]
        }
      ],
      "source": [
        "# https://www.datacamp.com/tutorial/xgboost-in-python\n",
        "from sklearn.model_selection import train_test_split\n",
        "from sklearn.metrics import mean_squared_error\n",
        "import pandas as pd\n",
        "import xgboost as xgb\n",
        "\n",
        "# dataset 1\n",
        "df = pd.read_csv('./radon-concentration.csv')\n",
        "\n",
        "df = df.dropna(subset=['AverageRadonConcentrationInBqPerM3'])\n",
        "\n",
        "df['AverageRadonConcentrationInBqPerM3'] = df['AverageRadonConcentrationInBqPerM3'].replace('<15', '15')\n",
        "df['AverageRadonConcentrationInBqPerM3'] = df['AverageRadonConcentrationInBqPerM3'].astype(int)\n",
        "\n",
        "min_value = df['AverageRadonConcentrationInBqPerM3'].min()\n",
        "max_value = df['AverageRadonConcentrationInBqPerM3'].max()\n",
        "mean_value = df['AverageRadonConcentrationInBqPerM3'].mean()\n",
        "\n",
        "X, y = df.drop(['ResultNumber', 'ProvinceTerritory', 'Health Region2007', 'TestDurationInDays'], axis=1),  df[['AverageRadonConcentrationInBqPerM3']]\n",
        "\n",
        "cats = X.select_dtypes(exclude=np.number).columns.tolist() # why does np work here?\n",
        "\n",
        "for col in cats:\n",
        "  X[col] = X[col].astype('category')\n",
        "\n",
        "X_train, X_test, y_train, y_test = train_test_split(X, y, random_state=1)\n",
        "\n",
        "dtrain_reg = xgb.DMatrix(X_train, y_train, enable_categorical=True)\n",
        "\n",
        "dtest_reg = xgb.DMatrix(X_test, y_test, enable_categorical=True)\n",
        "\n",
        "params = {\"objective\": \"reg:squarederror\", \"tree_method\": \"hist\"}\n",
        "\n",
        "\n",
        "n = 100\n",
        "\n",
        "model = xgb.train(\n",
        "\n",
        "   params=params,\n",
        "\n",
        "   dtrain=dtrain_reg,\n",
        "\n",
        "   num_boost_round=n,\n",
        "\n",
        ")\n",
        "\n",
        "preds = model.predict(dtest_reg)\n",
        "rmse = mean_squared_error(y_test, preds, squared=False)\n",
        "print(f\"RMSE of the base model: {rmse:.3f}\")\n",
        "print(min_value)\n",
        "print(max_value)\n",
        "print(mean_value)"
      ]
    },
    {
      "cell_type": "code",
      "source": [
        "import chardet\n",
        "with open(\"./radon-thoron.csv\", 'rb') as file:\n",
        "    result = chardet.detect(file.read())\n",
        "\n",
        "print(\"Detected encoding:\", result['encoding'])"
      ],
      "metadata": {
        "colab": {
          "base_uri": "https://localhost:8080/"
        },
        "id": "ymuWSnvd_1sL",
        "outputId": "e21fb74d-fd98-4d85-9167-ca0341d98dd9"
      },
      "execution_count": null,
      "outputs": [
        {
          "output_type": "stream",
          "name": "stdout",
          "text": [
            "Detected encoding: ISO-8859-1\n"
          ]
        }
      ]
    },
    {
      "cell_type": "code",
      "source": [
        "from sklearn.model_selection import train_test_split\n",
        "from sklearn.metrics import mean_squared_error\n",
        "import pandas as pd\n",
        "import numpy as np\n",
        "import xgboost as xgb\n",
        "\n",
        "df = pd.read_csv('./radon-thoron.csv',  encoding=\"ISO-8859-1\")\n",
        "\n",
        "df = df.dropna(subset=['averageRadonConcentrationInBqPerM3'])\n",
        "df = df[df['forwardSortationAreaCodes'] != '*']\n",
        "\n",
        "df['averageRadonConcentrationInBqPerM3'] = df['averageRadonConcentrationInBqPerM3'].replace('<15', '15')\n",
        "df['averageRadonConcentrationInBqPerM3'] = df['averageRadonConcentrationInBqPerM3'].astype(int)\n",
        "\n",
        "min_value = df['averageRadonConcentrationInBqPerM3'].min()\n",
        "max_value = df['averageRadonConcentrationInBqPerM3'].max()\n",
        "mean_value = df['averageRadonConcentrationInBqPerM3'].mean()\n",
        "\n",
        "X, y = df.drop(['resultNumber', 'province', 'censusMetropolitanArea', 'testDurationInDays'], axis=1),  df[['averageRadonConcentrationInBqPerM3']]\n",
        "\n",
        "cats = X.select_dtypes(exclude=np.number).columns.tolist()\n",
        "\n",
        "for col in cats:\n",
        "  X[col] = X[col].astype('category')\n",
        "\n",
        "X_train, X_test, y_train, y_test = train_test_split(X, y, random_state=1)\n",
        "\n",
        "dtrain_reg = xgb.DMatrix(X_train, y_train, enable_categorical=True)\n",
        "\n",
        "dtest_reg = xgb.DMatrix(X_test, y_test, enable_categorical=True)\n",
        "\n",
        "params = {\"objective\": \"reg:squarederror\", \"tree_method\": \"hist\"}\n",
        "\n",
        "\n",
        "n = 100\n",
        "\n",
        "model = xgb.train(\n",
        "\n",
        "   params=params,\n",
        "\n",
        "   dtrain=dtrain_reg,\n",
        "\n",
        "   num_boost_round=n,\n",
        "\n",
        ")\n",
        "\n",
        "preds = model.predict(dtest_reg)\n",
        "rmse = mean_squared_error(y_test, preds, squared=False)\n",
        "print(f\"RMSE of the base model: {rmse:.3f}\")\n",
        "print(min_value)\n",
        "print(max_value)\n",
        "print(mean_value)\n"
      ],
      "metadata": {
        "id": "6nHT-yMpWbsu",
        "colab": {
          "base_uri": "https://localhost:8080/"
        },
        "outputId": "b274fed5-3c50-4419-ec50-fd0a1429fc6b"
      },
      "execution_count": null,
      "outputs": [
        {
          "output_type": "stream",
          "name": "stdout",
          "text": [
            "RMSE of the base model: 9.238\n",
            "15\n",
            "2117\n",
            "119.53299319727891\n"
          ]
        }
      ]
    },
    {
      "cell_type": "code",
      "source": [
        "from sklearn.model_selection import train_test_split\n",
        "from sklearn.metrics import mean_squared_error\n",
        "import pandas as pd\n",
        "import numpy as np\n",
        "import xgboost as xgb\n",
        "\n",
        "df = pd.read_csv('./radon.csv')\n",
        "\n",
        "min_value = df[' activity'].min()\n",
        "max_value = df[' activity'].max()\n",
        "mean_value = df[' activity'].mean()\n",
        "\n",
        "print(df)\n",
        "X, y = df.drop(['idnum', ' state', ' state2', ' stfips', ' region', ' windoor', ' rep', ' stratum', ' stoptm', ' startdt', ' stopdt', ' pcterr', ' adjwt', ' dupflag', ' zipflag', ' cntyfips', ' county'], axis=1),  df[[' activity']]\n",
        "\n",
        "cats = X.select_dtypes(exclude=np.number).columns.tolist()\n",
        "\n",
        "for col in cats:\n",
        "  X[col] = X[col].astype('category')\n",
        "\n",
        "X_train, X_test, y_train, y_test = train_test_split(X, y, random_state=1)\n",
        "\n",
        "dtrain_reg = xgb.DMatrix(X_train, y_train, enable_categorical=True)\n",
        "\n",
        "dtest_reg = xgb.DMatrix(X_test, y_test, enable_categorical=True)\n",
        "\n",
        "params = {\"objective\": \"reg:squarederror\", \"tree_method\": \"hist\"}\n",
        "\n",
        "\n",
        "n = 100\n",
        "\n",
        "model = xgb.train(\n",
        "\n",
        "   params=params,\n",
        "\n",
        "   dtrain=dtrain_reg,\n",
        "\n",
        "   num_boost_round=n,\n",
        "\n",
        ")\n",
        "\n",
        "preds = model.predict(dtest_reg)\n",
        "rmse = mean_squared_error(y_test, preds, squared=False)\n",
        "print(f\"RMSE of the base model: {rmse:.3f}\")\n",
        "print(min_value)\n",
        "print(max_value)\n",
        "print(mean_value)\n"
      ],
      "metadata": {
        "colab": {
          "base_uri": "https://localhost:8080/"
        },
        "id": "DTl--FWGALxr",
        "outputId": "fe540e0c-a15b-45f1-f624-d4228f6a3038"
      },
      "execution_count": null,
      "outputs": [
        {
          "output_type": "stream",
          "name": "stdout",
          "text": [
            "       idnum  state  state2   stfips    zip   region   typebldg   floor  \\\n",
            "0          1     AZ      AZ        4  85920        1          1       1   \n",
            "1          2     AZ      AZ        4  85920        1          0       9   \n",
            "2          3     AZ      AZ        4  85924        1          1       1   \n",
            "3          4     AZ      AZ        4  85925        1          1       1   \n",
            "4          5     AZ      AZ        4  85932        1          1       1   \n",
            "...      ...    ...     ...      ...    ...      ...        ...     ...   \n",
            "12772  12773     R5      WI       55  54660        4          1       0   \n",
            "12773  12774     R5      WI       55  54660        4          1       1   \n",
            "12774  12775     R5      WI       55  54660        4          1       1   \n",
            "12775  12776     R5      WI       55  54660        4          1       1   \n",
            "12776  12777     R5      WI       55  54741        4          1       1   \n",
            "\n",
            "        room  basement  ...  stoptm  startdt   stopdt  activity   pcterr  \\\n",
            "0          2         N  ...    1100   112987   120287       0.3      0.0   \n",
            "1          0            ...     700    70788    71188       0.6     33.3   \n",
            "2          3         N  ...    1145    70788    70788       0.5      0.0   \n",
            "3          3         N  ...    1900    52088    52288       0.6     97.2   \n",
            "4          1         N  ...     900    70788    70788       0.3      0.0   \n",
            "...      ...       ...  ...     ...      ...      ...       ...      ...   \n",
            "12772      4         Y  ...     900    30388    30388       0.6     28.0   \n",
            "12773      3         N  ...    1615    30388    30388       2.2     14.5   \n",
            "12774      3         Y  ...     830    31588    31788       0.4      0.0   \n",
            "12775      3         N  ...     730    31588    31788       0.3      0.0   \n",
            "12776      1         Y  ...     915    22488    22688       0.5      0.0   \n",
            "\n",
            "            adjwt   dupflag   zipflag   cntyfips                county  \n",
            "0      136.060971         0         0          1  APACHE                \n",
            "1      128.784975         0         0          1  APACHE                \n",
            "2      150.245112         0         0          1  APACHE                \n",
            "3      136.060971         0         0          1  APACHE                \n",
            "4      136.060971         0         0          1  APACHE                \n",
            "...           ...       ...       ...        ...                   ...  \n",
            "12772    4.761628         0         0         81  WISCONSIN WINNEBAGO   \n",
            "12773    4.761628         0         0         81  WISCONSIN WINNEBAGO   \n",
            "12774    4.761628         0         0         81  WISCONSIN WINNEBAGO   \n",
            "12775    4.761628         0         0         81  WISCONSIN WINNEBAGO   \n",
            "12776    4.761628         0         0         35  WISCONSIN WINNEBAGO   \n",
            "\n",
            "[12777 rows x 25 columns]\n",
            "RMSE of the base model: 1.756\n",
            "0.0\n",
            "273.5\n",
            "4.480159661892463\n"
          ]
        }
      ]
    },
    {
      "cell_type": "code",
      "source": [
        "# https://www.datacamp.com/tutorial/decision-tree-classification-python\n",
        "import pandas as pd\n",
        "from sklearn.tree import DecisionTreeClassifier # Import Decision Tree Classifier\n",
        "from sklearn.model_selection import train_test_split # Import train_test_split function\n",
        "from sklearn import metrics #Import scikit-learn metrics module for accuracy calculation\n",
        "from sklearn.preprocessing import LabelBinarizer\n",
        "\n",
        "df = pd.read_csv('./radon-concentration.csv')\n",
        "df = df.filter(regex='^(?!Unnamed).*$')\n",
        "\n",
        "df = df.dropna(subset=['AverageRadonConcentrationInBqPerM3'])\n",
        "df = df.dropna(subset=['ForwardSortationAreaCodes'])\n",
        "\n",
        "df['AverageRadonConcentrationInBqPerM3'] = df['AverageRadonConcentrationInBqPerM3'].replace('<15', '15')\n",
        "df['AverageRadonConcentrationInBqPerM3'] = df['AverageRadonConcentrationInBqPerM3'].astype(int)\n",
        "\n",
        "min_value = df['AverageRadonConcentrationInBqPerM3'].min()\n",
        "max_value = df['AverageRadonConcentrationInBqPerM3'].max()\n",
        "mean_value = df['AverageRadonConcentrationInBqPerM3'].mean()\n",
        "\n",
        "df.ForwardSortationAreaCodes = LabelBinarizer().fit_transform(df.ForwardSortationAreaCodes)\n",
        "\n",
        "X, y = df.drop(['ResultNumber', 'ProvinceTerritory', 'Health Region2007', 'TestDurationInDays'], axis=1),  df[['AverageRadonConcentrationInBqPerM3']]\n",
        "\n",
        "# Split dataset into training set and test set\n",
        "X_train, X_test, y_train, y_test = train_test_split(X, y, test_size=0.3, random_state=1) # 70% training and 30% test\n",
        "\n",
        "# Create Decision Tree classifer object\n",
        "clf = DecisionTreeClassifier()\n",
        "\n",
        "# Train Decision Tree Classifer\n",
        "clf = clf.fit(X_train,y_train)\n",
        "\n",
        "#Predict the response for test dataset\n",
        "y_pred = clf.predict(X_test)\n",
        "\n",
        "# Model Accuracy, how often is the classifier correct?\n",
        "print(\"Accuracy:\",metrics.accuracy_score(y_test, y_pred))\n",
        "\n"
      ],
      "metadata": {
        "colab": {
          "base_uri": "https://localhost:8080/"
        },
        "id": "YWxJIvrRE8Wj",
        "outputId": "b16610c6-37fa-4f81-f2f5-ac1e52b49b85"
      },
      "execution_count": null,
      "outputs": [
        {
          "output_type": "stream",
          "name": "stdout",
          "text": [
            "Accuracy: 0.9727382388419783\n"
          ]
        }
      ]
    },
    {
      "cell_type": "code",
      "source": [
        "from sklearn.model_selection import train_test_split\n",
        "from sklearn.metrics import mean_squared_error\n",
        "import pandas as pd\n",
        "import numpy as np\n",
        "import xgboost as xgb\n",
        "\n",
        "df = pd.read_csv('./radon-thoron.csv',  encoding=\"ISO-8859-1\")\n",
        "\n",
        "df = df.dropna(subset=['averageRadonConcentrationInBqPerM3'])\n",
        "df = df[df['forwardSortationAreaCodes'] != '*']\n",
        "\n",
        "df['averageRadonConcentrationInBqPerM3'] = df['averageRadonConcentrationInBqPerM3'].replace('<15', '15')\n",
        "df['averageRadonConcentrationInBqPerM3'] = df['averageRadonConcentrationInBqPerM3'].astype(int)\n",
        "\n",
        "min_value = df['averageRadonConcentrationInBqPerM3'].min()\n",
        "max_value = df['averageRadonConcentrationInBqPerM3'].max()\n",
        "mean_value = df['averageRadonConcentrationInBqPerM3'].mean()\n",
        "\n",
        "df.forwardSortationAreaCodes = LabelBinarizer().fit_transform(df.forwardSortationAreaCodes)\n",
        "\n",
        "print(df)\n",
        "\n",
        "X, y = df.drop(['resultNumber', 'province', 'censusMetropolitanArea', 'testDurationInDays', 'averageThoronConcentrationInBqPerM3'], axis=1),  df[['averageRadonConcentrationInBqPerM3']]\n",
        "\n",
        "# Split dataset into training set and test set\n",
        "X_train, X_test, y_train, y_test = train_test_split(X, y, test_size=0.3, random_state=1) # 70% training and 30% test\n",
        "\n",
        "# Create Decision Tree classifer object\n",
        "clf = DecisionTreeClassifier()\n",
        "\n",
        "# Train Decision Tree Classifer\n",
        "clf = clf.fit(X_train,y_train)\n",
        "\n",
        "#Predict the response for test dataset\n",
        "y_pred = clf.predict(X_test)\n",
        "\n",
        "# Model Accuracy, how often is the classifier correct?\n",
        "print(\"Accuracy:\",metrics.accuracy_score(y_test, y_pred))"
      ],
      "metadata": {
        "colab": {
          "base_uri": "https://localhost:8080/"
        },
        "id": "FZZs7FU2Pr1l",
        "outputId": "45485bcf-9258-41cd-8d93-c2ef930f6440"
      },
      "execution_count": null,
      "outputs": [
        {
          "output_type": "stream",
          "name": "stdout",
          "text": [
            "      resultNumber censusMetropolitanArea province  forwardSortationAreaCodes  \\\n",
            "9               10            Calgary CMA       AB                          0   \n",
            "10              11            Calgary CMA       AB                          0   \n",
            "11              12            Calgary CMA       AB                          0   \n",
            "12              13            Calgary CMA       AB                          0   \n",
            "13              14            Calgary CMA       AB                          0   \n",
            "...            ...                    ...      ...                        ...   \n",
            "3185          3186          Saskatoon CMA       SK                          0   \n",
            "3186          3187          Saskatoon CMA       SK                          0   \n",
            "3187          3188          Saskatoon CMA       SK                          0   \n",
            "3188          3189          Saskatoon CMA       SK                          0   \n",
            "3189          3190          Saskatoon CMA       SK                          0   \n",
            "\n",
            "      testDurationInDays  averageRadonConcentrationInBqPerM3  \\\n",
            "9                     94                                 125   \n",
            "10                    92                                 123   \n",
            "11                    94                                 114   \n",
            "12                    91                                  91   \n",
            "13                    90                                 123   \n",
            "...                  ...                                 ...   \n",
            "3185                 100                                 141   \n",
            "3186                  90                                 188   \n",
            "3187                  91                                 108   \n",
            "3188                  92                                 213   \n",
            "3189                  91                                 155   \n",
            "\n",
            "     averageThoronConcentrationInBqPerM3  \n",
            "9                                    <15  \n",
            "10                                   <15  \n",
            "11                                   <15  \n",
            "12                                   <15  \n",
            "13                                    20  \n",
            "...                                  ...  \n",
            "3185                                 <15  \n",
            "3186                                 <15  \n",
            "3187                                  20  \n",
            "3188                                 <15  \n",
            "3189                                 <15  \n",
            "\n",
            "[2940 rows x 7 columns]\n",
            "Accuracy: 0.9444444444444444\n"
          ]
        }
      ]
    }
  ]
}